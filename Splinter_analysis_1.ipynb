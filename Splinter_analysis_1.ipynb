{
 "cells": [
  {
   "cell_type": "code",
   "execution_count": 11,
   "metadata": {},
   "outputs": [],
   "source": [
    "import numpy as np\n",
    "import matplotlib as plt\n",
    "import math\n",
    "import os\n",
    "from pathlib import Path\n",
    "import pandas as pd"
   ]
  },
  {
   "cell_type": "code",
   "execution_count": 34,
   "metadata": {},
   "outputs": [],
   "source": [
    "base_dir = r'C:\\Users\\srini\\Documents\\GitHub\\Paton-Lab--Summer-2024\\Splinter' # Champalimaud PC dir\n",
    "session = 0 # Change based on which trial you want\n",
    "date = os.listdir(base_dir)[session]\n",
    "path = os.path.join(base_dir, date)\n",
    "os.chdir(path)\n",
    "\n",
    "log_df = pd.read_csv('LogDf.csv')\n",
    "session_df = pd.read_csv('SessionDf.csv')\n",
    "\n",
    "log_data = log_df.to_dict(orient= 'dict')\n",
    "session_data = session_df.to_dict(orient= 'dict')\n",
    "\n",
    "spike_times = np.load('spiketimes.npy', allow_pickle=True)\n",
    "NUM_NEURONS = spike_times.shape[0]\n",
    "NUM_TRIALS = len(session_data['Unnamed: 0'])"
   ]
  },
  {
   "cell_type": "code",
   "execution_count": 36,
   "metadata": {},
   "outputs": [
    {
     "name": "stdout",
     "output_type": "stream",
     "text": [
      "Date:  2016-07-27\n",
      "Number Neurons:  19\n",
      "Number Trials:  341\n",
      "Log Keys:  dict_keys(['Unnamed: 0', 't', 'name', 'var', 'value'])\n",
      "Session Keys:  dict_keys(['Unnamed: 0', 'chosen_side', 'chosen_interval', 'correct_side', 'interval_category', 'has_choice', 'this_interval', 'outcome', 'init_port', 'choice_rt', 't_on', 't_off', 't'])\n"
     ]
    }
   ],
   "source": [
    "print('Date: ', os.listdir(base_dir)[session])\n",
    "print('Number Neurons: ', NUM_NEURONS)\n",
    "print('Number Trials: ', NUM_TRIALS)\n",
    "print('Log Keys: ', log_data.keys())\n",
    "print('Session Keys: ', session_data.keys())"
   ]
  },
  {
   "cell_type": "code",
   "execution_count": 37,
   "metadata": {},
   "outputs": [],
   "source": [
    "def remove_nans(arr):\n",
    "    return [x for x in arr if not math.isnan(x)]\n",
    "\n",
    "for cell in range(NUM_NEURONS):\n",
    "    spike_times[cell] = remove_nans(spike_times[cell])  "
   ]
  },
  {
   "cell_type": "code",
   "execution_count": 39,
   "metadata": {},
   "outputs": [],
   "source": [
    "stim_onset_t = []\n",
    "stim_offset_t = []\n",
    "invalid_session_nums = []\n",
    "\n",
    "for index in range(len(log_data['t'])):\n",
    "    time = log_data['t'][index]\n",
    "    name = log_data['name'][index]\n",
    "\n",
    "    if name == 'STIM_ONSET_EVENT':\n",
    "        stim_onset_t.append(time)"
   ]
  },
  {
   "cell_type": "code",
   "execution_count": null,
   "metadata": {},
   "outputs": [],
   "source": []
  }
 ],
 "metadata": {
  "kernelspec": {
   "display_name": "base",
   "language": "python",
   "name": "python3"
  },
  "language_info": {
   "codemirror_mode": {
    "name": "ipython",
    "version": 3
   },
   "file_extension": ".py",
   "mimetype": "text/x-python",
   "name": "python",
   "nbconvert_exporter": "python",
   "pygments_lexer": "ipython3",
   "version": "3.11.7"
  }
 },
 "nbformat": 4,
 "nbformat_minor": 2
}
